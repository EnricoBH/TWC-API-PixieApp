{
 "cells": [
  {
   "cell_type": "markdown",
   "metadata": {},
   "source": [
    "# The Weather Company PixieApp\n",
    "\n",
    "## This notebook shows you how to:\n",
    "- Use the Weather Company Data API to get weather forecast json data based on latitude and longitude\n",
    "- Convert this json data into a pandas DataFrame\n",
    "- Create a weather dashboard"
   ]
  },
  {
   "cell_type": "markdown",
   "metadata": {},
   "source": [
    "## Load and install packages\n",
    "First, uncomment the lines in the below cell and upgrade the pixiedust and bokeh packages. When this is done restart the kernel. You have to do this only once, or when there is an update available.\n",
    "\n",
    "Then import the packages needed to run this notebook."
   ]
  },
  {
   "cell_type": "code",
   "execution_count": null,
   "metadata": {
    "scrolled": true
   },
   "outputs": [],
   "source": [
    "!pip install --upgrade pixiedust\n",
    "!pip install --upgrade bokeh\n",
    "!pip install pandas\n",
    "!pip install numpy"
   ]
  },
  {
   "cell_type": "code",
   "execution_count": null,
   "metadata": {
    "collapsed": true,
    "scrolled": true
   },
   "outputs": [],
   "source": [
    "import requests\n",
    "import json\n",
    "import pandas as pd\n",
    "import numpy as np\n",
    "from datetime import datetime\n",
    "import time\n",
    "import pixiedust"
   ]
  },
  {
   "cell_type": "markdown",
   "metadata": {},
   "source": [
    "## Get The Weather Company API info\n",
    "\n",
    "If you have an IBM Bluemix account, the info to get the Weather Company API credentials can be found within the [Weather Company Data service](https://console.bluemix.net/docs/services/Weather/index.html). In the Service Credentials tab, click New Credential, Add, and then click \"view credentials\" under the Actions column."
   ]
  },
  {
   "cell_type": "code",
   "execution_count": null,
   "metadata": {
    "collapsed": true,
    "scrolled": true
   },
   "outputs": [],
   "source": [
    "# @hidden_cell\n",
    "# Weather company data API credentials\n",
    "username = 'YOUR-USERNAME-HERE'\n",
    "password = 'YOUR-PASSWORD-HERE'\n",
    "host = \"twcservice.mybluemix.net\""
   ]
  },
  {
   "cell_type": "markdown",
   "metadata": {},
   "source": [
    "Creating an array of locations"
   ]
  },
  {
   "cell_type": "code",
   "execution_count": null,
   "metadata": {
    "collapsed": true,
    "scrolled": true
   },
   "outputs": [],
   "source": [
    "places = sorted([\n",
    "    ('Boston, MA',42.350390, -71.166406),\n",
    "    ('Philidelphia, PA', 39.950296, -75.166624),\n",
    "    ('Pittsburgh, PA', 40.440625, -79.995886),\n",
    "    ('Hartford, CT', 41.763711, -72.685093 ),\n",
    "    ('New Haven, CT', 41.308274, -72.927884),\n",
    "    ('New York City, NY', 40.712852, -74.004103),\n",
    "    ('Syracuse, NY', 43.048402, -76.146319),\n",
    "    ('Binghamton, NY', 42.098687, -75.917974),\n",
    "    ('Ithaca, NY', 42.443961, -76.501881),\n",
    "    ('Beacon, NY', 41.504816, -73.969583)], key=lambda tup: tup[1])"
   ]
  },
  {
   "cell_type": "markdown",
   "metadata": {},
   "source": [
    "## Convert json data to Pandas DataFrames for multiple locations\n",
    "\n",
    "- forecast_df features info for each time for each location.\n",
    "- current_df is for the most recent time - which is also the first row - for each location."
   ]
  },
  {
   "cell_type": "code",
   "execution_count": null,
   "metadata": {
    "pixiedust": {
     "displayParams": {
      "handlerId": "dataframe"
     }
    },
    "scrolled": false
   },
   "outputs": [],
   "source": [
    "forecast_df = pd.DataFrame()\n",
    "current_df = pd.DataFrame()\n",
    "\n",
    "for place in places:\n",
    "    lat = place[1]\n",
    "    lon = place[2]\n",
    "    url = \"https://{}:{}@{}/api/weather/v1/geocode/{}/{}/forecast/intraday/10day.json\".format(username, password, str(host), str(lat), (lon))                                                                                                       \n",
    "    res = requests.get(url)\n",
    "    weather = json.loads(res.text)\n",
    "    # create dataframe\n",
    "    weatherdf = pd.DataFrame.from_dict(weather['forecasts'][0], orient='index').transpose()\n",
    "    # get all forecasts\n",
    "    for forecast in weather['forecasts'][1:]:\n",
    "        weatherdf = pd.concat([weatherdf, pd.DataFrame.from_dict(forecast,orient='index').transpose()])\n",
    "    # add date column\n",
    "    weatherdf['date'] = weatherdf['fcst_valid_local'].apply(lambda x: datetime.strptime(x, '%Y-%m-%dT%H:%M:%S-0400'))\n",
    "    # get rid of unneeded columns\n",
    "    weatherdf = weatherdf.drop(['expire_time_gmt','num','qualifier','qualifier_code'],1)   \n",
    "    weatherdf = weatherdf.drop(['fcst_valid','fcst_valid_local','icon_extd','wdir_cardinal'],1)   \n",
    "    weatherdf = weatherdf.drop(['subphrase_pt1','subphrase_pt2','subphrase_pt3','class'],1)   \n",
    "    weatherdf = weatherdf.drop(['daypart_name','phrase_12char','phrase_22char','phrase_32char'],1)   \n",
    "    # rename columns\n",
    "    weatherdf.columns = ['pop','wind_speed','relative_humidity','icon_code','clouds','wind_direction','temperature', 'precipitation_type', 'day_of_week', 'date']\n",
    "    weatherdf[['pop','wind_speed','relative_humidity','clouds','wind_direction','temperature']] = weatherdf[['pop','wind_speed','relative_humidity','clouds','wind_direction','temperature']].apply(pd.to_numeric)\n",
    "    # copy pop column into new rain column\n",
    "    weatherdf['rain'] = weatherdf['pop'].as_matrix()\n",
    "    # get rid of pop column\n",
    "    weatherdf = weatherdf.drop('pop',1)\n",
    "    # make place, lat, and lon columns\n",
    "    weatherdf['lat'] = lat\n",
    "    weatherdf['lon'] = lon\n",
    "    weatherdf['place'] = place[0]\n",
    "    # append info to data frames\n",
    "    forecast_df = forecast_df.append(weatherdf)\n",
    "    current_df = current_df.append(weatherdf.iloc[0])\n",
    "\n",
    "current_df.reset_index(inplace=True)\n",
    "forecast_df.reset_index(inplace=True)\n",
    "current_df\n",
    "# forecast_df"
   ]
  },
  {
   "cell_type": "markdown",
   "metadata": {},
   "source": [
    "This is getting the icon code to display an image associated with the most recent upcoming weather in Boston."
   ]
  },
  {
   "cell_type": "code",
   "execution_count": null,
   "metadata": {
    "scrolled": true
   },
   "outputs": [],
   "source": [
    "BostonDF = forecast_df.loc[forecast_df[\"place\"]==\"Boston, MA\"]\n",
    "icon= BostonDF.iloc[0]['icon_code']\n",
    "icon"
   ]
  },
  {
   "cell_type": "markdown",
   "metadata": {},
   "source": [
    "BostonDF will also be used as the default chart to be shown when choosing a weather forecast variable."
   ]
  },
  {
   "cell_type": "markdown",
   "metadata": {},
   "source": [
    "## Creating the PixieApp"
   ]
  },
  {
   "cell_type": "code",
   "execution_count": null,
   "metadata": {
    "collapsed": true,
    "scrolled": true
   },
   "outputs": [],
   "source": [
    "weatherAppHTML = \"\"\"\n",
    "    <!-- Title bar -->\n",
    "    <nav class=\"navbar navbar-default\">\n",
    "        <div class=\"container-fluid\">\n",
    "            <div class=\"navbar-header\">\n",
    "                <a class=\"navbar-brand\">WEATHER IN NEW ENGLAND</a>\n",
    "            </div>\n",
    "            <div class=\"nav navbar-nav navbar-right\">\n",
    "                <img src=\"https://upload.wikimedia.org/wikipedia/commons/thumb/5/51/IBM_logo.svg/1000px-IBM_logo.svg.png\" alt=\"IBM logo\" width=\"50\" height=\"25\">\n",
    "            </div>\n",
    "        </div>\n",
    "    </nav>\n",
    "\n",
    "    <!-- Description -->\n",
    "    <div class=\"jumbotron container-fluid\">\n",
    "        <div class=\"col-sm-3\">\n",
    "            <img src=\"{{this.iconURL}}\" id=\"forecast-icon\" class=\"img-responsive center-block\"/>\n",
    "        </div>\n",
    "        <div class=\"col-sm-9\">\n",
    "            <p>This is a PixieApp utilizing The Weather Company API.\n",
    "            The mapbox map on the left shows the temperature, rain, wind speed, wind direction, and relative humidity values for various locations\n",
    "            in the New England area for the most recent time gathered from The Weather Company. The chart on the right shows different weather\n",
    "            charts for Boston.</p>\n",
    "        </div>\n",
    "    </div>\n",
    "\n",
    "    <!-- Main content -->\n",
    "    <div class=\"container\">\n",
    "        <div class=\"row\">\n",
    "            <div class=\"col-sm-6\">\n",
    "                <!-- Dropdown buttons -->\n",
    "                <div id=\"dropdown-container\">\n",
    "                    <div class=\"chart-dropdown col-sm-12\">\n",
    "                        <button class=\"col-sm-12 btn btn-primary btn-lg\">Choose a weather variable to display</button>\n",
    "                        <div class=\"dropdown-content col-sm-12\">\n",
    "                            {% for info in this.measures %}\n",
    "                                <a pd_script=\"self.currentChartInfo={{info}}\">{{info[\"label\"]}}\n",
    "                                    <target pd_target=\"title{{prefix}}\" pd_script=\"print('{} for Boston, MA'.format('{{info['label']}}'))\"/>\n",
    "                                    <target pd_target=\"map{{prefix}}\"\n",
    "                                            pd_entity=\"pixieapp_entity[1]\"\n",
    "                                            pd_options=\"handlerId=mapView;preserveCols=place;rendererId=mapbox;keyFields=lat,lon;valueFields={{info[\"valueField\"]}};opacity=100;kind=choropleth;mapboxtoken=pk.eyJ1Ijoiam9yZGFuZ2VvcmdlIiwiYSI6ImNqM2s3YjhlcjAwamgzMm4zeWMwOWo3cjMifQ.AQqZdo1kVVjKSIsqqdEGRQ\"/>\n",
    "                                    <target pd_target=\"charts{{prefix}}\"\n",
    "                                            pd_entity=\"chartDF\"\n",
    "                                            pd_options=\"rendererId=bokeh;keyFields=date;aggregation=AVG;handlerId=lineChart;valueFields={{info[\"valueField\"]}};rowCount=10000;legend=false;chartsize=100\"/>\n",
    "                                </a>\n",
    "                            {% endfor %}\n",
    "                        </div>\n",
    "                    </div>\n",
    "                </div>\n",
    "\n",
    "                <!-- Map display -->\n",
    "                <div class=\"col-sm-12\" id=\"map{{prefix}}\">\n",
    "                </div>\n",
    "            </div>\n",
    "\n",
    "            <div class=\"col-sm-6\">\n",
    "                <center class=\"col-sm-12\"><h1 id=\"title{{prefix}}\"/></center>\n",
    "                <div class=\"col-sm-12 chartDisplay\" id=\"charts{{prefix}}\"></div>\n",
    "            </div>\n",
    "\n",
    "            <pd_event_handler pd_origin=\"map{{prefix}}\">\n",
    "                <target pd_target=\"title{{prefix}}\" pd_script=\"print('{} for {}'.format(self.currentChartInfo['label'], eventInfo['place']))\"/>\n",
    "                <target pd_target=\"charts{{prefix}}\"\n",
    "                        pd_script=\"self.loadCityDF(eventInfo['place'])\"\n",
    "                        pd_options=\"chart=true\" pd_refresh/>\n",
    "            </pd_event_handler>\n",
    "        </div>\n",
    "    </div>\n",
    "\"\"\""
   ]
  },
  {
   "cell_type": "code",
   "execution_count": null,
   "metadata": {
    "collapsed": true,
    "scrolled": true
   },
   "outputs": [],
   "source": [
    "weatherAppCSS = \"\"\"\n",
    "    .chartDisplay {\n",
    "        margin-top: 20px;\n",
    "    }\n",
    "    \n",
    "    .navbar-brand {\n",
    "        font-size: 20px;\n",
    "        letter-spacing: 30px;\n",
    "    }\n",
    "    \n",
    "    #dropdown-container {\n",
    "        margin-bottom: 60px;\n",
    "    }\n",
    "    \n",
    "    #forecast-icon {\n",
    "        position: relative;\n",
    "        top: 25%;\n",
    "        left: 25%;\n",
    "        width: 75px;\n",
    "        height: 75px;\n",
    "    }\n",
    "\n",
    "    /* The container <div> - needed to position the dropdown content */\n",
    "    .chart-dropdown {\n",
    "        position: absolute;\n",
    "        display: inline-block;\n",
    "        width: 100%;\n",
    "    }\n",
    "    /* Dropdown Content (Hidden by Default) */\n",
    "    .dropdown-content {\n",
    "        display: none;\n",
    "        position: absolute;\n",
    "        background-color: #f9f9f9;\n",
    "        box-shadow: 0px 8px 16px 0px rgba(0,0,0,0.2);\n",
    "        overflow: visible;\n",
    "        z-index: 1000000;\n",
    "    }\n",
    "    /* Links inside the dropdown */\n",
    "    .dropdown-content a {\n",
    "        color: black;\n",
    "        padding: 12px 16px;\n",
    "        text-decoration: none;\n",
    "        display: block;\n",
    "    }\n",
    "    /* Change color of dropdown links on hover */\n",
    "    .dropdown-content a:hover {\n",
    "        background-color: #f1f1f1;\n",
    "    }\n",
    "    /* Show the dropdown menu on hover */\n",
    "    .chart-dropdown:hover .dropdown-content {\n",
    "        display: block;\n",
    "    }\n",
    "\"\"\""
   ]
  },
  {
   "cell_type": "code",
   "execution_count": null,
   "metadata": {
    "pixiedust": {
     "displayParams": {
      "targetDivId": "dialog61f89d10root"
     }
    },
    "scrolled": true
   },
   "outputs": [],
   "source": [
    "from pixiedust.display.app import *\n",
    "\n",
    "@PixieApp\n",
    "class WeatherApp:\n",
    "    def setup(self):\n",
    "        self.iconURL = 'https://github.com/ibm-cds-labs/python-notebooks/blob/master/weathericons/icon'+str(icon)+'.png?raw=true'\n",
    "        self.measures = [\n",
    "            {\"label\": \"Temperature (F)\", \"valueField\": \"temperature\"},\n",
    "            {\"label\": \"Rain (%)\", \"valueField\": \"rain\"},\n",
    "            {\"label\": \"Wind Speed (mph)\", \"valueField\": \"wind_speed\"},\n",
    "            {\"label\": \"Relative Humidity (%)\", \"valueField\": \"relative_humidity\"},\n",
    "        ]\n",
    "\n",
    "    def loadCityDF(self, place):\n",
    "        self.cityDF = forecast_df.loc[forecast_df[\"place\"]==place]\n",
    "        \n",
    "    @property\n",
    "    def chartDF(self):\n",
    "        return self.cityDF if hasattr(self, \"cityDF\") else self.pixieapp_entity[0]\n",
    "\n",
    "    @route(chart=\"true\")\n",
    "    def showChart(self):\n",
    "        return \"\"\"\n",
    "            <div pd_entity=\"chartDF\"\n",
    "                pd_render_onload\n",
    "                pd_options=\"debug=true;noChartCache=true;rendererId=bokeh;keyFields=date;aggregation=AVG;handlerId=lineChart;valueFields={{this.currentChartInfo[\"valueField\"]}};rowCount=10000;legend=false;chartsize=100\">\n",
    "            </div>\n",
    "        \"\"\"\n",
    "\n",
    "    @route()\n",
    "    def main(self):\n",
    "        return \"\"\"<style>{}</style>{}\"\"\".format(weatherAppCSS, weatherAppHTML)\n",
    "\n",
    "# run the app\n",
    "dfs = [BostonDF, current_df]\n",
    "WeatherApp().run(dfs, runInDialog='false')"
   ]
  },
  {
   "cell_type": "markdown",
   "metadata": {
    "collapsed": true,
    "pixiedust": {
     "displayParams": {
      "handlerId": "dataframe"
     }
    }
   },
   "source": [
    "The cell below can be used for debugging with/for PixieDust"
   ]
  },
  {
   "cell_type": "code",
   "execution_count": null,
   "metadata": {
    "collapsed": true,
    "scrolled": true
   },
   "outputs": [],
   "source": [
    "%pixiedustLog -l debug"
   ]
  },
  {
   "cell_type": "code",
   "execution_count": null,
   "metadata": {
    "collapsed": true,
    "pixiedust": {
     "displayParams": {
      "aggregation": "SUM",
      "coloropacity": "66",
      "handlerId": "mapView",
      "keyFields": "lat,lon",
      "mapboxtoken": "pk.eyJ1IjoibWFwYm94IiwiYSI6ImNpejY4M29iazA2Z2gycXA4N2pmbDZmangifQ.-g_vE53SD2WrJ6tFX7QHmA",
      "rowCount": "500",
      "valueFields": "clouds"
     }
    },
    "scrolled": true
   },
   "outputs": [],
   "source": []
  }
 ],
 "metadata": {
  "kernelspec": {
   "display_name": "Python 2 with Spark 2.0",
   "language": "python",
   "name": "python2-spark20"
  },
  "language_info": {
   "codemirror_mode": {
    "name": "ipython",
    "version": 2
   },
   "file_extension": ".py",
   "mimetype": "text/x-python",
   "name": "python",
   "nbconvert_exporter": "python",
   "pygments_lexer": "ipython2",
   "version": "2.7.11"
  }
 },
 "nbformat": 4,
 "nbformat_minor": 1
}
